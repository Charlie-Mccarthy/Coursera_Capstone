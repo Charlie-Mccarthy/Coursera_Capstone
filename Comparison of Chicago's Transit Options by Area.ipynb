{
    "cells": [
        {
            "cell_type": "markdown",
            "metadata": {
                "collapsed": true
            },
            "source": "# Comparing Public Transportation Offerings between Chicago Neighborhoods "
        },
        {
            "cell_type": "markdown",
            "metadata": {},
            "source": "This notebook covers the Week 4 Submission requirement for the Coursera Data Science Professional Capstone project. This report contains the two required sections: Introduction and Data. First, the problem is introduced. Then, the data used in this project will be discussed. "
        },
        {
            "cell_type": "markdown",
            "metadata": {},
            "source": "## Introduction / Business Problem"
        },
        {
            "cell_type": "markdown",
            "metadata": {},
            "source": "Most Americans have probably heard of Chicago's famous public train network operating within the city: The \"L\" trains that carry millions of passengers a year get their name due to the elevated tracks. This iconic system is so critical to the Windy City that it provided the nickname of Chicago's downtown, central-business-district neighborhood. This area is most commonly referred to as 'The Loop,' based off of the shape the converging elevated train tracks form over the downtown streets and sidewalks. Public transportation services in urban areas like Chicago have immense potential to shape and influence the economic and social makeup of each neighborhood. \n\nThroughout history, for reasons both just and unjust, access to public transporattion services throughut American cities has not always been deployed to maximize equitable access. In some cases, a neighborhood might have more services due to a higher population density or a larger percentage of regular commuters. However, these decisions can also be politically motivated and it is critical for governments to reevaluate the distribution and magnitude of their public transportation services regularly for potential improvements. \n\nThis analysis will take a Machine Learning approach to compare the existing public transportation services across the 77 Chicago Community Areas. The analysis will consider several aspects of public transporattion, including: Number of L train stops, number of L train lines, number of CTA Bus stops, number of CTA Bus lines, number of Divvy Bike Share rental stations, and the number of Bike paths. \n\nBased on these six parameters, the 77 Community Areas will be clustered into groups using the K-Means Machine Learning algorithm. This will be a useful tool for transportation planners/operators,  infrastructure owners/operators, and the local government entities in evaluating the distribution of public transit services throughout the city. It could be used to identify which neighborhoods have sufficient levels of services, and which are in need of service improvements. \n\nIn the next section, the data used in this analysis will be detailed. \n\n"
        },
        {
            "cell_type": "markdown",
            "metadata": {},
            "source": "## Data Discussion"
        },
        {
            "cell_type": "markdown",
            "metadata": {},
            "source": "This analysis is performed using the IBM Cloud platform. All analysis is done using Python, primarily the Pandas package. But before performing the analysis, two datasets are needed. \n\n1. The official Chicago neighborhoods are called Community Areas. These are the geographic locations that will be used for this analysis. The names of these 77 Community Areas was downloaded from the Wikipedia page \"Community Areeas in Chicago.\"(https://en.wikipedia.org/wiki/Community_areas_in_Chicago). Using Pandas, the Wikipedia table summarizing these locations is imported into the IBM Platform Notebook for analysis. A geocoder is then used on this dataset in order to plot the neighborhoods on a map. \n\n2. Foursquare is a company that provides location data through an API. This API is used to locate the existing public transportation servces within each Community Area. Foursquare's venue data includes hundreds of location types, including the fields of interest for this analysis: Bus Stops, Train Stops, and Bike Share Stations. The data for these three venue types within each Community Area will be used as the basis of analysis. \n\nWith these two datasets in hand, the data is joined and the K-Means Machine Learning clustering proceeds. The next draft of this Notebook will include additional sections, including the completed analysis itself and any conclusions the exercise reveals. Stay tuned!"
        },
        {
            "cell_type": "markdown",
            "metadata": {},
            "source": "Contact charmccar@gmail.com with any comments or questions. "
        }
    ],
    "metadata": {
        "kernelspec": {
            "display_name": "Python 3.7",
            "language": "python",
            "name": "python3"
        },
        "language_info": {
            "codemirror_mode": {
                "name": "ipython",
                "version": 3
            },
            "file_extension": ".py",
            "mimetype": "text/x-python",
            "name": "python",
            "nbconvert_exporter": "python",
            "pygments_lexer": "ipython3",
            "version": "3.7.10"
        }
    },
    "nbformat": 4,
    "nbformat_minor": 1
}